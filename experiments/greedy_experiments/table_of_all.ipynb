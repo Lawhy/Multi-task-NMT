{
 "cells": [
  {
   "cell_type": "code",
   "execution_count": 67,
   "metadata": {},
   "outputs": [],
   "source": [
    "import matplotlib.pyplot as plt\n",
    "import pandas as pd\n",
    "from scipy.stats import pearsonr"
   ]
  },
  {
   "cell_type": "code",
   "execution_count": 34,
   "metadata": {},
   "outputs": [],
   "source": [
    "def summary(name, burn):\n",
    "    baseline = pd.read_csv(f\"En2Ch/{name}-burn-{burn}/eval.results\", sep='\\t', index_col=0)\n",
    "    aux_baseline = pd.read_csv(f\"En2Pinyin/{name}-str-burn-{burn}/eval.results\", sep='\\t', index_col=0)\n",
    "    if name == \"dict\":\n",
    "        table_all = pd.DataFrame(columns=[\"ACC-dev\", \"ACC-test\", \"ACC-ACT-test\", \"ACC-Pinyin-test\"],\n",
    "                                 index=[\"seq2seq (Baseline, mtr=1)\"] + [f\"mtr=0.{10-i}\" for i in range(1, 10)])\n",
    "        table_all.loc[\"seq2seq (Baseline, mtr=1)\"] = [baseline.loc[\"Valid\"][\"ACC\"], baseline.loc[\"Test\"][\"ACC\"], \n",
    "                                                      baseline.loc[\"Test\"][\"ACC-ACT\"], -1]\n",
    "        for i in range(1, 10):\n",
    "            exp = pd.read_csv(f\"En2Ch+Pinyin_str/{name}/{name}-mtr-0.{i}-burn-{burn}/eval.results\", sep='\\t', index_col=0)\n",
    "            table_all.loc[f\"mtr=0.{i}\"] = [exp.loc[\"Valid\"][\"ACC\"], exp.loc[\"Test\"][\"ACC\"], \n",
    "                                           exp.loc[\"Test\"][\"ACC-ACT\"], exp.loc[\"Test\"][\"ACC-aux\"]]\n",
    "        table_all.loc[\"seq2seq (Pinyin-baseline, mtr=0)\"] = [-1, -1, -1, aux_baseline.loc[\"Test\"][\"ACC\"]]\n",
    "    elif name == \"news\":\n",
    "        table_all = pd.DataFrame(columns=[\"ACC-dev\", \"ACC-test\", \"ACC+(test)\", \"ACC-ACT-test\", \"ACC-Pinyin-test\"],\n",
    "                                 index=[\"seq2seq (Baseline, mtr=1)\"] + [f\"mtr=0.{10-i}\" for i in range(1, 10)])\n",
    "        table_all.loc[\"seq2seq (Baseline, mtr=1)\"] = [baseline.loc[\"Valid\"][\"ACC\"], baseline.loc[\"Test\"][\"ACC\"], \n",
    "                                                      baseline.loc[\"Test\"][\"ACC+\"], baseline.loc[\"Test\"][\"ACC-ACT\"], -1]\n",
    "        for i in range(1, 10):\n",
    "            exp = pd.read_csv(f\"En2Ch+Pinyin_str/{name}/{name}-mtr-0.{i}-burn-{burn}/eval.results\", sep='\\t', index_col=0)\n",
    "            table_all.loc[f\"mtr=0.{i}\"] = [exp.loc[\"Valid\"][\"ACC\"], exp.loc[\"Test\"][\"ACC\"], exp.loc[\"Test\"][\"ACC+\"],\n",
    "                                           exp.loc[\"Test\"][\"ACC-ACT\"], exp.loc[\"Test\"][\"ACC-aux\"]]\n",
    "        table_all.loc[\"seq2seq (Pinyin-baseline, mtr=0)\"] = [-1, -1, -1, -1, aux_baseline.loc[\"Test\"][\"ACC\"]]\n",
    "    return table_all"
   ]
  },
  {
   "cell_type": "code",
   "execution_count": 4,
   "metadata": {},
   "outputs": [],
   "source": [
    "dict_sum = summary(\"dict\", 0)"
   ]
  },
  {
   "cell_type": "code",
   "execution_count": 32,
   "metadata": {},
   "outputs": [],
   "source": [
    "dict_sum.iloc[[0, -1]].append(dict_sum[dict_sum[\"ACC-dev\"] == dict_sum.max(axis=0)[\"ACC-dev\"]]).to_csv(\"dict_exps_summary.csv\")"
   ]
  },
  {
   "cell_type": "code",
   "execution_count": 35,
   "metadata": {},
   "outputs": [],
   "source": [
    "news_sum = summary(\"news\", 10)"
   ]
  },
  {
   "cell_type": "code",
   "execution_count": 36,
   "metadata": {},
   "outputs": [],
   "source": [
    "news_sum.iloc[[0, -1]].append(news_sum[news_sum[\"ACC-dev\"] == news_sum.max(axis=0)[\"ACC-dev\"]]).to_csv(\"news_exps_summary.csv\")"
   ]
  },
  {
   "cell_type": "code",
   "execution_count": 86,
   "metadata": {},
   "outputs": [],
   "source": [
    "def summary_dev(name, burn):\n",
    "    baseline = pd.read_csv(f\"En2Ch/{name}-burn-{burn}/eval.results\", sep='\\t', index_col=0)\n",
    "    aux_baseline = pd.read_csv(f\"En2Pinyin/{name}-str-burn-{burn}/eval.results\", sep='\\t', index_col=0)\n",
    "    table_all = pd.DataFrame(columns=[\"ACC\", \"ACC-ACT\", \"ACC-Pinyin\"],\n",
    "                             index=[\"seq2seq (Baseline, 1)\"] + [f\"0.{10-i}\" for i in range(1, 10)])\n",
    "    table_all.loc[\"seq2seq (Baseline, 1)\"] = [baseline.loc[\"Valid\"][\"ACC\"], baseline.loc[\"Valid\"][\"ACC-ACT\"], -1]\n",
    "    for i in range(1, 10):\n",
    "        exp = pd.read_csv(f\"En2Ch+Pinyin_str/{name}/{name}-mtr-0.{i}-burn-{burn}/eval.results\", sep='\\t', index_col=0)\n",
    "        table_all.loc[f\"0.{i}\"] = [exp.loc[\"Valid\"][\"ACC\"], exp.loc[\"Valid\"][\"ACC-ACT\"], exp.loc[\"Valid\"][\"ACC-aux\"]]\n",
    "    table_all.loc[\"seq2seq (Pinyin-baseline, 0)\"] = [-1, -1, aux_baseline.loc[\"Valid\"][\"ACC\"]]\n",
    "    return table_all"
   ]
  },
  {
   "cell_type": "code",
   "execution_count": 100,
   "metadata": {},
   "outputs": [
    {
     "name": "stdout",
     "output_type": "stream",
     "text": [
      "\\begin{tabular}{lrrr}\n",
      "\\toprule\n",
      "{} &    ACC &  ACC-ACT &  ACC-Pinyin \\\\\n",
      "\\midrule\n",
      "seq2seq (Baseline, 1)        &  0.665 &    0.686 &      -1.000 \\\\\n",
      "0.9                          &  0.649 &    0.673 &       0.671 \\\\\n",
      "0.8                          &  0.673 &    0.692 &       0.698 \\\\\n",
      "0.7                          &  0.657 &    0.676 &       0.686 \\\\\n",
      "0.6                          &  0.673 &    0.696 &       0.682 \\\\\n",
      "0.5                          &  0.663 &    0.686 &       0.694 \\\\\n",
      "0.4                          &  0.686 &    0.704 &       0.702 \\\\\n",
      "0.3                          &  0.669 &    0.694 &       0.708 \\\\\n",
      "0.2                          &  0.669 &    0.688 &       0.688 \\\\\n",
      "0.1                          &  0.676 &    0.692 &       0.698 \\\\\n",
      "seq2seq (Pinyin-baseline, 0) & -1.000 &   -1.000 &       0.696 \\\\\n",
      "\\bottomrule\n",
      "\\end{tabular}\n",
      "\n"
     ]
    }
   ],
   "source": [
    "name = \"news\"\n",
    "burn = 10\n",
    "dev = summary_dev(name, burn=burn).astype(float).round(3)\n",
    "print(dev.round(3).to_latex())"
   ]
  },
  {
   "cell_type": "code",
   "execution_count": 101,
   "metadata": {},
   "outputs": [
    {
     "data": {
      "text/html": [
       "<div>\n",
       "<style scoped>\n",
       "    .dataframe tbody tr th:only-of-type {\n",
       "        vertical-align: middle;\n",
       "    }\n",
       "\n",
       "    .dataframe tbody tr th {\n",
       "        vertical-align: top;\n",
       "    }\n",
       "\n",
       "    .dataframe thead th {\n",
       "        text-align: right;\n",
       "    }\n",
       "</style>\n",
       "<table border=\"1\" class=\"dataframe\">\n",
       "  <thead>\n",
       "    <tr style=\"text-align: right;\">\n",
       "      <th></th>\n",
       "      <th>ACC</th>\n",
       "      <th>ACC-ACT</th>\n",
       "      <th>ACC-Pinyin</th>\n",
       "    </tr>\n",
       "  </thead>\n",
       "  <tbody>\n",
       "    <tr>\n",
       "      <th>seq2seq (Baseline, 1)</th>\n",
       "      <td>NaN</td>\n",
       "      <td>NaN</td>\n",
       "      <td>NaN</td>\n",
       "    </tr>\n",
       "    <tr>\n",
       "      <th>0.9</th>\n",
       "      <td>NaN</td>\n",
       "      <td>NaN</td>\n",
       "      <td>NaN</td>\n",
       "    </tr>\n",
       "    <tr>\n",
       "      <th>0.8</th>\n",
       "      <td>NaN</td>\n",
       "      <td>NaN</td>\n",
       "      <td>NaN</td>\n",
       "    </tr>\n",
       "    <tr>\n",
       "      <th>0.7</th>\n",
       "      <td>NaN</td>\n",
       "      <td>NaN</td>\n",
       "      <td>NaN</td>\n",
       "    </tr>\n",
       "    <tr>\n",
       "      <th>0.6</th>\n",
       "      <td>NaN</td>\n",
       "      <td>NaN</td>\n",
       "      <td>NaN</td>\n",
       "    </tr>\n",
       "    <tr>\n",
       "      <th>0.5</th>\n",
       "      <td>NaN</td>\n",
       "      <td>NaN</td>\n",
       "      <td>NaN</td>\n",
       "    </tr>\n",
       "    <tr>\n",
       "      <th>0.4</th>\n",
       "      <td>0.686</td>\n",
       "      <td>0.704</td>\n",
       "      <td>NaN</td>\n",
       "    </tr>\n",
       "    <tr>\n",
       "      <th>0.3</th>\n",
       "      <td>NaN</td>\n",
       "      <td>NaN</td>\n",
       "      <td>0.708</td>\n",
       "    </tr>\n",
       "    <tr>\n",
       "      <th>0.2</th>\n",
       "      <td>NaN</td>\n",
       "      <td>NaN</td>\n",
       "      <td>NaN</td>\n",
       "    </tr>\n",
       "    <tr>\n",
       "      <th>0.1</th>\n",
       "      <td>NaN</td>\n",
       "      <td>NaN</td>\n",
       "      <td>NaN</td>\n",
       "    </tr>\n",
       "    <tr>\n",
       "      <th>seq2seq (Pinyin-baseline, 0)</th>\n",
       "      <td>NaN</td>\n",
       "      <td>NaN</td>\n",
       "      <td>NaN</td>\n",
       "    </tr>\n",
       "  </tbody>\n",
       "</table>\n",
       "</div>"
      ],
      "text/plain": [
       "                                ACC  ACC-ACT  ACC-Pinyin\n",
       "seq2seq (Baseline, 1)           NaN      NaN         NaN\n",
       "0.9                             NaN      NaN         NaN\n",
       "0.8                             NaN      NaN         NaN\n",
       "0.7                             NaN      NaN         NaN\n",
       "0.6                             NaN      NaN         NaN\n",
       "0.5                             NaN      NaN         NaN\n",
       "0.4                           0.686    0.704         NaN\n",
       "0.3                             NaN      NaN       0.708\n",
       "0.2                             NaN      NaN         NaN\n",
       "0.1                             NaN      NaN         NaN\n",
       "seq2seq (Pinyin-baseline, 0)    NaN      NaN         NaN"
      ]
     },
     "execution_count": 101,
     "metadata": {},
     "output_type": "execute_result"
    }
   ],
   "source": [
    "dev[dev == dev.max(axis=0)]"
   ]
  },
  {
   "cell_type": "code",
   "execution_count": 97,
   "metadata": {},
   "outputs": [
    {
     "data": {
      "text/html": [
       "<div>\n",
       "<style scoped>\n",
       "    .dataframe tbody tr th:only-of-type {\n",
       "        vertical-align: middle;\n",
       "    }\n",
       "\n",
       "    .dataframe tbody tr th {\n",
       "        vertical-align: top;\n",
       "    }\n",
       "\n",
       "    .dataframe thead th {\n",
       "        text-align: right;\n",
       "    }\n",
       "</style>\n",
       "<table border=\"1\" class=\"dataframe\">\n",
       "  <thead>\n",
       "    <tr style=\"text-align: right;\">\n",
       "      <th></th>\n",
       "      <th>ACC</th>\n",
       "      <th>ACC-Pinyin</th>\n",
       "    </tr>\n",
       "  </thead>\n",
       "  <tbody>\n",
       "    <tr>\n",
       "      <th>seq2seq (Baseline, 1)</th>\n",
       "      <td>0.725</td>\n",
       "      <td>-1.000</td>\n",
       "    </tr>\n",
       "    <tr>\n",
       "      <th>0.9</th>\n",
       "      <td>0.725</td>\n",
       "      <td>0.742</td>\n",
       "    </tr>\n",
       "    <tr>\n",
       "      <th>0.8</th>\n",
       "      <td>0.689</td>\n",
       "      <td>0.710</td>\n",
       "    </tr>\n",
       "    <tr>\n",
       "      <th>0.7</th>\n",
       "      <td>0.723</td>\n",
       "      <td>0.737</td>\n",
       "    </tr>\n",
       "    <tr>\n",
       "      <th>0.6</th>\n",
       "      <td>0.729</td>\n",
       "      <td>0.743</td>\n",
       "    </tr>\n",
       "    <tr>\n",
       "      <th>0.5</th>\n",
       "      <td>0.720</td>\n",
       "      <td>0.740</td>\n",
       "    </tr>\n",
       "    <tr>\n",
       "      <th>0.4</th>\n",
       "      <td>0.726</td>\n",
       "      <td>0.742</td>\n",
       "    </tr>\n",
       "    <tr>\n",
       "      <th>0.3</th>\n",
       "      <td>0.674</td>\n",
       "      <td>0.698</td>\n",
       "    </tr>\n",
       "    <tr>\n",
       "      <th>0.2</th>\n",
       "      <td>0.690</td>\n",
       "      <td>0.706</td>\n",
       "    </tr>\n",
       "    <tr>\n",
       "      <th>0.1</th>\n",
       "      <td>0.721</td>\n",
       "      <td>0.742</td>\n",
       "    </tr>\n",
       "    <tr>\n",
       "      <th>seq2seq (Pinyin-baseline, 0)</th>\n",
       "      <td>-1.000</td>\n",
       "      <td>0.742</td>\n",
       "    </tr>\n",
       "  </tbody>\n",
       "</table>\n",
       "</div>"
      ],
      "text/plain": [
       "                                ACC  ACC-Pinyin\n",
       "seq2seq (Baseline, 1)         0.725      -1.000\n",
       "0.9                           0.725       0.742\n",
       "0.8                           0.689       0.710\n",
       "0.7                           0.723       0.737\n",
       "0.6                           0.729       0.743\n",
       "0.5                           0.720       0.740\n",
       "0.4                           0.726       0.742\n",
       "0.3                           0.674       0.698\n",
       "0.2                           0.690       0.706\n",
       "0.1                           0.721       0.742\n",
       "seq2seq (Pinyin-baseline, 0) -1.000       0.742"
      ]
     },
     "execution_count": 97,
     "metadata": {},
     "output_type": "execute_result"
    }
   ],
   "source": [
    "dev[[\"ACC\", \"ACC-Pinyin\"]]"
   ]
  },
  {
   "cell_type": "code",
   "execution_count": 98,
   "metadata": {},
   "outputs": [
    {
     "data": {
      "image/png": "[encoded data removed]",
      "text/plain": [
       "<Figure size 432x288 with 1 Axes>"
      ]
     },
     "metadata": {
      "needs_background": "light"
     },
     "output_type": "display_data"
    }
   ],
   "source": [
    "x = summary_dev(name, burn=burn)[[\"ACC-Pinyin\"]].iloc[1:-1]\n",
    "y = summary_dev(name, burn=burn)[[\"ACC\"]].iloc[1:-1]\n",
    "plt.plot(x, y, 'rx')\n",
    "plt.ylabel(\"main-task ACC\")\n",
    "plt.xlabel(\"aux-task ACC\")\n",
    "plt.show()"
   ]
  },
  {
   "cell_type": "code",
   "execution_count": 99,
   "metadata": {},
   "outputs": [
    {
     "data": {
      "text/plain": [
       "(0.9901938192315407, 3.045361913371948e-07)"
      ]
     },
     "execution_count": 99,
     "metadata": {},
     "output_type": "execute_result"
    }
   ],
   "source": [
    "pearsonr(x.squeeze(1), y.squeeze(1))"
   ]
  }
 ],
 "metadata": {
  "kernelspec": {
   "display_name": "Python 3",
   "language": "python",
   "name": "python3"
  },
  "language_info": {
   "codemirror_mode": {
    "name": "ipython",
    "version": 3
   },
   "file_extension": ".py",
   "mimetype": "text/x-python",
   "name": "python",
   "nbconvert_exporter": "python",
   "pygments_lexer": "ipython3",
   "version": "3.8.2"
  }
 },
 "nbformat": 4,
 "nbformat_minor": 4
}
